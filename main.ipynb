{
 "cells": [
  {
   "cell_type": "code",
   "execution_count": null,
   "id": "initial_id",
   "metadata": {
    "collapsed": true,
    "is_executing": true
   },
   "outputs": [],
   "source": [
    "import torch\n",
    "import torch.nn as nn\n",
    "import matplotlib.pyplot as plt\n",
    "%matplotlib inline"
   ]
  },
  {
   "cell_type": "code",
   "outputs": [],
   "source": [
    "from matplotlib_inline import backend_inline\n",
    "backend_inline.set_matplotlib_formats('svg')"
   ],
   "metadata": {
    "collapsed": false,
    "ExecuteTime": {
     "end_time": "2024-01-13T02:35:59.843063200Z",
     "start_time": "2024-01-13T02:35:59.828062100Z"
    }
   },
   "id": "33a9998f1e384a27",
   "execution_count": 3
  },
  {
   "cell_type": "code",
   "outputs": [
    {
     "data": {
      "text/plain": "torch.Size([10000, 6])"
     },
     "execution_count": 4,
     "metadata": {},
     "output_type": "execute_result"
    }
   ],
   "source": [
    "X1 = torch.rand(10000,1)\n",
    "X2 = torch.rand(10000,1)\n",
    "X3 = torch.rand(10000,1)\n",
    "Y1 = ( (X1+X2+X3)<1 ).float()\n",
    "Y2 = ( (1<(X1+X2+X3)) & ((X1+X2+X3)<2) ).float()\n",
    "Y3 = ( (X1+X2+X3)>2 ).float()\n",
    "Data = torch.cat([X1,X2,X3,Y1,Y2,Y3],axis=1) \n",
    "Data = Data.to('cuda:0') \n",
    "Data.shape"
   ],
   "metadata": {
    "collapsed": false,
    "ExecuteTime": {
     "end_time": "2024-01-13T02:36:00.100072500Z",
     "start_time": "2024-01-13T02:35:59.845060100Z"
    }
   },
   "id": "90bd77b94d9fff99",
   "execution_count": 4
  },
  {
   "cell_type": "code",
   "outputs": [
    {
     "data": {
      "text/plain": "(torch.Size([7000, 6]), torch.Size([3000, 6]))"
     },
     "execution_count": 5,
     "metadata": {},
     "output_type": "execute_result"
    }
   ],
   "source": [
    "train_size=int(0.7*len(Data))\n",
    "test_size=len(Data)-train_size\n",
    "Data=Data[torch.randperm(Data.size(0)),:]\n",
    "train_data = Data[:train_size,:]\n",
    "test_data = Data[train_size:,:]\n",
    "train_data.shape,test_data.shape"
   ],
   "metadata": {
    "collapsed": false,
    "ExecuteTime": {
     "end_time": "2024-01-13T02:36:00.254059900Z",
     "start_time": "2024-01-13T02:36:00.096059200Z"
    }
   },
   "id": "44452f66fe82b2f4",
   "execution_count": 5
  },
  {
   "cell_type": "code",
   "outputs": [],
   "source": [
    "class DNN(nn.Module):\n",
    "    def __init__(self):\n",
    "        super(DNN,self).__init__()\n",
    "        self.net = nn.Sequential(\n",
    "            nn.Linear(3,5),nn.ReLU(),\n",
    "            nn.Linear(5,5),nn.ReLU(),\n",
    "            nn.Linear(5,5),nn.ReLU(),\n",
    "            nn.Linear(5,3)\n",
    "        )\n",
    "    def forward(self,x):\n",
    "        y=self.net(x)\n",
    "        return y"
   ],
   "metadata": {
    "collapsed": false,
    "ExecuteTime": {
     "end_time": "2024-01-13T02:36:00.355058300Z",
     "start_time": "2024-01-13T02:36:00.343063900Z"
    }
   },
   "id": "6572d2ea45370e8a",
   "execution_count": 6
  },
  {
   "cell_type": "code",
   "outputs": [
    {
     "data": {
      "text/plain": "DNN(\n  (net): Sequential(\n    (0): Linear(in_features=3, out_features=5, bias=True)\n    (1): ReLU()\n    (2): Linear(in_features=5, out_features=5, bias=True)\n    (3): ReLU()\n    (4): Linear(in_features=5, out_features=5, bias=True)\n    (5): ReLU()\n    (6): Linear(in_features=5, out_features=3, bias=True)\n  )\n)"
     },
     "execution_count": 7,
     "metadata": {},
     "output_type": "execute_result"
    }
   ],
   "source": [
    "model=DNN().to('cuda:0') \n",
    "model"
   ],
   "metadata": {
    "collapsed": false,
    "ExecuteTime": {
     "end_time": "2024-01-13T02:36:00.381057700Z",
     "start_time": "2024-01-13T02:36:00.350064Z"
    }
   },
   "id": "6d566cb29f786cce",
   "execution_count": 7
  },
  {
   "cell_type": "code",
   "outputs": [
    {
     "name": "stdout",
     "output_type": "stream",
     "text": [
      "参数:net.0.weight\n",
      " 形状:torch.Size([5, 3])\n",
      " 数值:Parameter containing:\n",
      "tensor([[-0.4040, -0.0127,  0.1977],\n",
      "        [-0.2044, -0.2568,  0.5117],\n",
      "        [ 0.4716, -0.5636, -0.1592],\n",
      "        [-0.1127, -0.5541, -0.2132],\n",
      "        [ 0.5099, -0.3308,  0.0813]], device='cuda:0', requires_grad=True)\n",
      "\n",
      "参数:net.0.bias\n",
      " 形状:torch.Size([5])\n",
      " 数值:Parameter containing:\n",
      "tensor([0.1696, 0.0758, 0.4064, 0.3594, 0.2713], device='cuda:0',\n",
      "       requires_grad=True)\n",
      "\n",
      "参数:net.2.weight\n",
      " 形状:torch.Size([5, 5])\n",
      " 数值:Parameter containing:\n",
      "tensor([[-0.3373,  0.1262, -0.1479,  0.3877, -0.1810],\n",
      "        [ 0.1351,  0.2927,  0.4272,  0.4231,  0.4033],\n",
      "        [ 0.4465,  0.0707, -0.1494,  0.0428, -0.2486],\n",
      "        [-0.0661, -0.3631, -0.0259,  0.3997,  0.0251],\n",
      "        [-0.0792, -0.0081, -0.1655, -0.1497,  0.3647]], device='cuda:0',\n",
      "       requires_grad=True)\n",
      "\n",
      "参数:net.2.bias\n",
      " 形状:torch.Size([5])\n",
      " 数值:Parameter containing:\n",
      "tensor([ 0.3205,  0.1441,  0.3399,  0.2114, -0.2892], device='cuda:0',\n",
      "       requires_grad=True)\n",
      "\n",
      "参数:net.4.weight\n",
      " 形状:torch.Size([5, 5])\n",
      " 数值:Parameter containing:\n",
      "tensor([[-0.1549,  0.0667, -0.2746,  0.1948, -0.1279],\n",
      "        [-0.2811,  0.3888,  0.3862, -0.0433,  0.3545],\n",
      "        [ 0.0088,  0.1975,  0.0345,  0.4068,  0.4341],\n",
      "        [ 0.0225, -0.3500,  0.0194, -0.3399,  0.0615],\n",
      "        [-0.2334,  0.4152, -0.3276, -0.2635, -0.3588]], device='cuda:0',\n",
      "       requires_grad=True)\n",
      "\n",
      "参数:net.4.bias\n",
      " 形状:torch.Size([5])\n",
      " 数值:Parameter containing:\n",
      "tensor([ 0.0903, -0.3341, -0.0828,  0.1777, -0.0258], device='cuda:0',\n",
      "       requires_grad=True)\n",
      "\n",
      "参数:net.6.weight\n",
      " 形状:torch.Size([3, 5])\n",
      " 数值:Parameter containing:\n",
      "tensor([[ 0.3179,  0.4248, -0.1767, -0.2111,  0.0811],\n",
      "        [ 0.1556, -0.3591, -0.1098,  0.3856, -0.3568],\n",
      "        [-0.2386, -0.2324, -0.0405, -0.1567, -0.3883]], device='cuda:0',\n",
      "       requires_grad=True)\n",
      "\n",
      "参数:net.6.bias\n",
      " 形状:torch.Size([3])\n",
      " 数值:Parameter containing:\n",
      "tensor([-0.3904, -0.3842, -0.3248], device='cuda:0', requires_grad=True)\n"
     ]
    }
   ],
   "source": [
    "for name, param in model.named_parameters():\n",
    "    print(f\"参数:{name}\\n 形状:{param.shape}\\n 数值:{param}\\n\")"
   ],
   "metadata": {
    "collapsed": false,
    "ExecuteTime": {
     "end_time": "2024-01-13T02:36:00.634433Z",
     "start_time": "2024-01-13T02:36:00.385060800Z"
    }
   },
   "id": "e3a045be03119f91",
   "execution_count": 8
  },
  {
   "cell_type": "code",
   "outputs": [],
   "source": [
    "loss_fn = nn.MSELoss()"
   ],
   "metadata": {
    "collapsed": false,
    "ExecuteTime": {
     "end_time": "2024-01-13T02:36:00.665434200Z",
     "start_time": "2024-01-13T02:36:00.635435100Z"
    }
   },
   "id": "d39a40b5e97bf6d5",
   "execution_count": 9
  },
  {
   "cell_type": "code",
   "outputs": [],
   "source": [
    "learning_rate = 0.01\n",
    "optimizer=torch.optim.SGD(model.parameters(),lr=learning_rate)"
   ],
   "metadata": {
    "collapsed": false,
    "ExecuteTime": {
     "end_time": "2024-01-13T02:36:01.014434Z",
     "start_time": "2024-01-13T02:36:00.651430600Z"
    }
   },
   "id": "444b766928ea5e09",
   "execution_count": 10
  },
  {
   "cell_type": "code",
   "outputs": [],
   "source": [
    "epochs=1000\n",
    "losses=[]\n",
    "X=train_data[:,:3]\n",
    "Y=train_data[:,-3:]\n",
    "for epoch in range(epochs):\n",
    "    Pred=model(X)\n",
    "    loss=loss_fn(Pred,Y)\n",
    "    losses.append(loss.item())\n",
    "    optimizer.zero_grad()\n",
    "    loss.backward()\n",
    "    optimizer.step()\n",
    "Fig=plt.figure()\n",
    "plt.plot(range(epochs),losses)\n",
    "plt.xlabel('epoch'),plt.ylabel('loss')\n",
    "plt.show()"
   ],
   "metadata": {
    "collapsed": false,
    "is_executing": true,
    "ExecuteTime": {
     "start_time": "2024-01-13T02:36:01.020430400Z"
    }
   },
   "id": "1ffe2912b6eac431",
   "execution_count": null
  },
  {
   "cell_type": "code",
   "outputs": [],
   "source": [],
   "metadata": {
    "collapsed": false,
    "is_executing": true
   },
   "id": "9f55298291f29a62"
  }
 ],
 "metadata": {
  "kernelspec": {
   "display_name": "Python 3",
   "language": "python",
   "name": "python3"
  },
  "language_info": {
   "codemirror_mode": {
    "name": "ipython",
    "version": 2
   },
   "file_extension": ".py",
   "mimetype": "text/x-python",
   "name": "python",
   "nbconvert_exporter": "python",
   "pygments_lexer": "ipython2",
   "version": "2.7.6"
  }
 },
 "nbformat": 4,
 "nbformat_minor": 5
}
