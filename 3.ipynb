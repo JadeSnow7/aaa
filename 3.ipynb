{
 "cells": [
  {
   "cell_type": "code",
   "execution_count": 1,
   "id": "2be6e1f7",
   "metadata": {
    "ExecuteTime": {
     "end_time": "2024-01-13T02:38:55.853193700Z",
     "start_time": "2024-01-13T02:38:53.405714500Z"
    }
   },
   "outputs": [],
   "source": [
    "import torch\n",
    "import torch.nn as nn\n",
    "import matplotlib.pyplot as plt\n",
    "%matplotlib inline"
   ]
  },
  {
   "cell_type": "code",
   "execution_count": 2,
   "id": "c2ddbb4a",
   "metadata": {
    "ExecuteTime": {
     "end_time": "2024-01-13T02:38:55.867699300Z",
     "start_time": "2024-01-13T02:38:55.854635600Z"
    }
   },
   "outputs": [],
   "source": [
    "# 展示高清图\n",
    "from matplotlib_inline import backend_inline\n",
    "backend_inline.set_matplotlib_formats('svg')"
   ]
  },
  {
   "cell_type": "code",
   "execution_count": 3,
   "id": "3593ec0d",
   "metadata": {
    "ExecuteTime": {
     "end_time": "2024-01-13T02:38:56.053057100Z",
     "start_time": "2024-01-13T02:38:55.868702Z"
    }
   },
   "outputs": [
    {
     "data": {
      "text/plain": "torch.Size([10000, 6])"
     },
     "execution_count": 3,
     "metadata": {},
     "output_type": "execute_result"
    }
   ],
   "source": [
    "# 生成数据集\n",
    "X1 = torch.rand(10000,1)    # 输入特征1\n",
    "X2 = torch.rand(10000,1)    # 输入特征2\n",
    "X3 = torch.rand(10000,1)    # 输入特征3\n",
    "Y1 = ( (X1+X2+X3)<1 ).float()                        # 输出特征1\n",
    "Y2 = ( (1<(X1+X2+X3)) & ((X1+X2+X3)<2) ).float()     # 输出特征2\n",
    "Y3 = ( (X1+X2+X3)>2 ).float()                        # 输出特征3\n",
    "Data = torch.cat([X1,X2,X3,Y1,Y2,Y3],axis=1)    # 整合数据集\n",
    "Data = Data.to('cuda:0')                        # 把数据集搬到GPU上\n",
    "Data.shape"
   ]
  },
  {
   "cell_type": "code",
   "execution_count": 4,
   "id": "a9474b8a",
   "metadata": {
    "ExecuteTime": {
     "end_time": "2024-01-13T02:38:56.104530400Z",
     "start_time": "2024-01-13T02:38:56.056046800Z"
    }
   },
   "outputs": [
    {
     "data": {
      "text/plain": "(torch.Size([7000, 6]), torch.Size([3000, 6]))"
     },
     "execution_count": 4,
     "metadata": {},
     "output_type": "execute_result"
    }
   ],
   "source": [
    "# 划分训练集与测试集\n",
    "train_size = int(len(Data) * 0.7)      # 训练集的样本数量\n",
    "test_size  = len(Data) - train_size    # 测试集的样本数量\n",
    "Data = Data[torch.randperm( Data.size(0)) , : ]    # 打乱样本的顺序\n",
    "train_Data = Data[:train_size, :]    # 训练集样本\n",
    "test_Data  = Data[train_size:, :]    # 测试集样本\n",
    "train_Data.shape, test_Data.shape"
   ]
  },
  {
   "cell_type": "code",
   "execution_count": 5,
   "id": "8fdfd794",
   "metadata": {
    "ExecuteTime": {
     "end_time": "2024-01-13T02:38:56.178171Z",
     "start_time": "2024-01-13T02:38:56.099506200Z"
    }
   },
   "outputs": [],
   "source": [
    "class DNN(nn.Module):\n",
    "\n",
    "    def __init__(self):\n",
    "        ''' 搭建神经网络各层 '''\n",
    "        super(DNN,self).__init__()\n",
    "        self.net = nn.Sequential(          # 按顺序搭建各层\n",
    "            nn.Linear(3, 5), nn.ReLU(),    # 第1层：全连接层\n",
    "            nn.Linear(5, 5), nn.ReLU(),    # 第2层：全连接层\n",
    "            nn.Linear(5, 5), nn.ReLU(),    # 第3层：全连接层\n",
    "            nn.Linear(5, 3)                # 第4层：全连接层\n",
    "        )\n",
    "\n",
    "    def forward(self, x):\n",
    "        ''' 前向传播 '''\n",
    "        y = self.net(x)    # x即输入数据\n",
    "        return y           # y即输出数据"
   ]
  },
  {
   "cell_type": "code",
   "execution_count": 6,
   "id": "8f3c410b",
   "metadata": {
    "ExecuteTime": {
     "end_time": "2024-01-13T02:38:56.204906900Z",
     "start_time": "2024-01-13T02:38:56.180172300Z"
    }
   },
   "outputs": [
    {
     "data": {
      "text/plain": "DNN(\n  (net): Sequential(\n    (0): Linear(in_features=3, out_features=5, bias=True)\n    (1): ReLU()\n    (2): Linear(in_features=5, out_features=5, bias=True)\n    (3): ReLU()\n    (4): Linear(in_features=5, out_features=5, bias=True)\n    (5): ReLU()\n    (6): Linear(in_features=5, out_features=3, bias=True)\n  )\n)"
     },
     "execution_count": 6,
     "metadata": {},
     "output_type": "execute_result"
    }
   ],
   "source": [
    "model = DNN().to('cuda:0')     # 创建子类的实例，并搬到GPU上\n",
    "model                          # 查看该实例的各层"
   ]
  },
  {
   "cell_type": "code",
   "execution_count": 7,
   "id": "9ca7d4b3",
   "metadata": {
    "ExecuteTime": {
     "end_time": "2024-01-13T02:38:56.309728600Z",
     "start_time": "2024-01-13T02:38:56.196893100Z"
    }
   },
   "outputs": [
    {
     "name": "stdout",
     "output_type": "stream",
     "text": [
      "参数:net.0.weight\n",
      "形状:torch.Size([5, 3])\n",
      "数值:Parameter containing:\n",
      "tensor([[-0.3634,  0.2543, -0.2063],\n",
      "        [ 0.3732, -0.3718, -0.5487],\n",
      "        [ 0.4576, -0.3352, -0.4467],\n",
      "        [-0.5365,  0.3332,  0.4046],\n",
      "        [ 0.2397, -0.3928, -0.5049]], device='cuda:0', requires_grad=True)\n",
      "\n",
      "参数:net.0.bias\n",
      "形状:torch.Size([5])\n",
      "数值:Parameter containing:\n",
      "tensor([0.5679, 0.4771, 0.4067, 0.2998, 0.2860], device='cuda:0',\n",
      "       requires_grad=True)\n",
      "\n",
      "参数:net.2.weight\n",
      "形状:torch.Size([5, 5])\n",
      "数值:Parameter containing:\n",
      "tensor([[ 0.2181, -0.1126,  0.0547,  0.0454, -0.3543],\n",
      "        [ 0.1533, -0.1508, -0.4294,  0.0669,  0.0400],\n",
      "        [-0.2223,  0.3876, -0.3371, -0.1370, -0.3782],\n",
      "        [ 0.2182, -0.1925,  0.1720,  0.3436, -0.0889],\n",
      "        [-0.3573,  0.3834,  0.3971, -0.0483,  0.3595]], device='cuda:0',\n",
      "       requires_grad=True)\n",
      "\n",
      "参数:net.2.bias\n",
      "形状:torch.Size([5])\n",
      "数值:Parameter containing:\n",
      "tensor([-0.0439, -0.2656, -0.4370, -0.0728,  0.0652], device='cuda:0',\n",
      "       requires_grad=True)\n",
      "\n",
      "参数:net.4.weight\n",
      "形状:torch.Size([5, 5])\n",
      "数值:Parameter containing:\n",
      "tensor([[ 0.1096,  0.2418,  0.0875,  0.0370, -0.3656],\n",
      "        [ 0.3194, -0.0380, -0.3719, -0.3515,  0.1435],\n",
      "        [ 0.2210,  0.2207, -0.0893, -0.3284, -0.2849],\n",
      "        [-0.0522,  0.0787,  0.4380,  0.1686, -0.0610],\n",
      "        [ 0.2807, -0.4004, -0.1729, -0.2168,  0.0758]], device='cuda:0',\n",
      "       requires_grad=True)\n",
      "\n",
      "参数:net.4.bias\n",
      "形状:torch.Size([5])\n",
      "数值:Parameter containing:\n",
      "tensor([-0.2788, -0.3559, -0.0807, -0.0861, -0.3453], device='cuda:0',\n",
      "       requires_grad=True)\n",
      "\n",
      "参数:net.6.weight\n",
      "形状:torch.Size([3, 5])\n",
      "数值:Parameter containing:\n",
      "tensor([[ 0.1353, -0.2654, -0.1539, -0.4333, -0.3187],\n",
      "        [ 0.1924, -0.3750, -0.1223,  0.3640,  0.1458],\n",
      "        [ 0.2136, -0.3059,  0.0168, -0.2591, -0.2534]], device='cuda:0',\n",
      "       requires_grad=True)\n",
      "\n",
      "参数:net.6.bias\n",
      "形状:torch.Size([3])\n",
      "数值:Parameter containing:\n",
      "tensor([ 0.3964,  0.1359, -0.3313], device='cuda:0', requires_grad=True)\n"
     ]
    }
   ],
   "source": [
    "# 查看内部参数（非必要）\n",
    "for name, param in model.named_parameters():\n",
    "    print(f\"参数:{name}\\n形状:{param.shape}\\n数值:{param}\\n\")"
   ]
  },
  {
   "cell_type": "code",
   "execution_count": 8,
   "id": "0717c688",
   "metadata": {
    "ExecuteTime": {
     "end_time": "2024-01-13T02:38:56.321856Z",
     "start_time": "2024-01-13T02:38:56.302469200Z"
    }
   },
   "outputs": [],
   "source": [
    "# 损失函数的选择\n",
    "loss_fn = nn.MSELoss()"
   ]
  },
  {
   "cell_type": "code",
   "execution_count": 9,
   "id": "79a7c525",
   "metadata": {
    "ExecuteTime": {
     "end_time": "2024-01-13T02:38:56.617853900Z",
     "start_time": "2024-01-13T02:38:56.320853900Z"
    }
   },
   "outputs": [],
   "source": [
    "# 优化算法的选择\n",
    "learning_rate = 0.01    # 设置学习率\n",
    "optimizer = torch.optim.SGD(model.parameters(), lr=learning_rate)"
   ]
  },
  {
   "cell_type": "code",
   "execution_count": null,
   "id": "06ed4c3a",
   "metadata": {
    "scrolled": true,
    "is_executing": true
   },
   "outputs": [],
   "source": [
    "# 训练网络\n",
    "epochs = 1000\n",
    "losses = []      # 记录损失函数变化的列表\n",
    "\n",
    "# 给训练集划分输入与输出\n",
    "X = train_Data[:, :3]      # 前3列为输入特征\n",
    "Y = train_Data[:, -3:]     # 后3列为输出特征\n",
    "\n",
    "for epoch in range(epochs):\n",
    "    Pred = model(X)               # 一次前向传播（BGD）\n",
    "    loss = loss_fn(Pred, Y)       # 计算损失函数\n",
    "    losses.append(loss.item())    # 记录损失函数的变化\n",
    "    optimizer.zero_grad()         # 清理上一轮滞留的梯度\n",
    "    loss.backward()               # 一次反向传播\n",
    "    optimizer.step()              # 优化内部参数\n",
    "\n",
    "Fig = plt.figure()\n",
    "plt.plot(range(epochs), losses)\n",
    "plt.ylabel('loss')\n",
    "plt.xlabel('epoch')\n",
    "plt.show()"
   ]
  },
  {
   "cell_type": "code",
   "execution_count": null,
   "id": "41e00b2b",
   "metadata": {
    "is_executing": true
   },
   "outputs": [],
   "source": [
    "# 测试网络\n",
    "\n",
    "# 给测试集划分输入与输出\n",
    "X = test_Data[:, :3]      # 前3列为输入特征\n",
    "Y = test_Data[:, -3:]     # 后3列为输出特征\n",
    "\n",
    "with torch.no_grad():     # 该局部关闭梯度计算功能\n",
    "    Pred = model(X)       # 一次前向传播（批量）\n",
    "    Pred[:,torch.argmax(Pred, axis=1)] = 1\n",
    "    Pred[Pred!=1] = 0\n",
    "    correct = torch.sum( (Pred == Y).all(1) )    # 预测正确的样本\n",
    "    total = Y.size(0)                            # 全部的样本数量\n",
    "    print(f'测试集精准度: {100*correct/total} %')"
   ]
  },
  {
   "cell_type": "code",
   "execution_count": null,
   "id": "7298a6dc",
   "metadata": {
    "is_executing": true
   },
   "outputs": [],
   "source": [
    "# 保存网络\n",
    "torch.save(model, 'model.pth')"
   ]
  },
  {
   "cell_type": "code",
   "execution_count": null,
   "id": "0cfd2d7b",
   "metadata": {
    "is_executing": true
   },
   "outputs": [],
   "source": [
    "# 直接把模型赋给新网络\n",
    "new_model = torch.load('model.pth')"
   ]
  },
  {
   "cell_type": "code",
   "execution_count": null,
   "id": "4c81cdd5",
   "metadata": {
    "is_executing": true
   },
   "outputs": [],
   "source": [
    "# 测试网络\n",
    "\n",
    "# 给测试集划分输入与输出\n",
    "X = test_Data[:, :3]      # 前3列为输入特征\n",
    "Y = test_Data[:, -3:]     # 后3列为输出特征\n",
    "\n",
    "with torch.no_grad():         # 该局部关闭梯度计算功能\n",
    "    Pred = new_model(X)       # 在新网络中进行一次前向传播（批量）\n",
    "    Pred[:,torch.argmax(Pred, axis=1)] = 1\n",
    "    Pred[Pred!=1] = 0\n",
    "    correct = torch.sum( (Pred == Y).all(1) )    # 预测正确的样本\n",
    "    total = Y.size(0)                            # 全部的样本数量\n",
    "    print(f'测试集精准度: {100*correct/total} %')"
   ]
  }
 ],
 "metadata": {
  "kernelspec": {
   "display_name": "base",
   "language": "python",
   "name": "python3"
  },
  "language_info": {
   "codemirror_mode": {
    "name": "ipython",
    "version": 3
   },
   "file_extension": ".py",
   "mimetype": "text/x-python",
   "name": "python",
   "nbconvert_exporter": "python",
   "pygments_lexer": "ipython3",
   "version": "3.9.13"
  }
 },
 "nbformat": 4,
 "nbformat_minor": 5
}
