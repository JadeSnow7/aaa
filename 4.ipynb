{
 "cells": [
  {
   "cell_type": "code",
   "execution_count": 1,
   "id": "922a3fde",
   "metadata": {
    "ExecuteTime": {
     "end_time": "2024-01-16T12:53:08.726133900Z",
     "start_time": "2024-01-16T12:53:03.226053600Z"
    }
   },
   "outputs": [],
   "source": [
    "import numpy as np\n",
    "import pandas as pd\n",
    "import torch\n",
    "import torch.nn as nn\n",
    "import matplotlib.pyplot as plt\n",
    "%matplotlib inline"
   ]
  },
  {
   "cell_type": "code",
   "execution_count": 2,
   "id": "5982c1fa",
   "metadata": {
    "ExecuteTime": {
     "end_time": "2024-01-16T12:53:08.762729Z",
     "start_time": "2024-01-16T12:53:08.727135500Z"
    }
   },
   "outputs": [],
   "source": [
    "# 展示高清图\n",
    "from matplotlib_inline import backend_inline\n",
    "backend_inline.set_matplotlib_formats('svg')"
   ]
  },
  {
   "cell_type": "code",
   "execution_count": 3,
   "id": "88f8a7fb",
   "metadata": {
    "ExecuteTime": {
     "end_time": "2024-01-16T12:53:09.254842Z",
     "start_time": "2024-01-16T12:53:08.742743900Z"
    }
   },
   "outputs": [
    {
     "data": {
      "text/plain": "torch.Size([759, 9])"
     },
     "execution_count": 3,
     "metadata": {},
     "output_type": "execute_result"
    }
   ],
   "source": [
    "# 准备数据集\n",
    "df = pd.read_csv('Data.csv', index_col=0)    # 导入数据\n",
    "arr = df.values                 # Pandas对象退化为NumPy数组\n",
    "arr = arr.astype(np.float32)    # 转为float32类型数组\n",
    "ts = torch.tensor(arr)          # 数组转为张量\n",
    "ts = ts.to('cuda')              # 把训练集搬到cuda上\n",
    "ts.shape"
   ]
  },
  {
   "cell_type": "code",
   "execution_count": 4,
   "id": "ede251f7",
   "metadata": {
    "ExecuteTime": {
     "end_time": "2024-01-16T12:53:09.453842300Z",
     "start_time": "2024-01-16T12:53:09.228846400Z"
    }
   },
   "outputs": [
    {
     "data": {
      "text/plain": "(torch.Size([531, 9]), torch.Size([228, 9]))"
     },
     "execution_count": 4,
     "metadata": {},
     "output_type": "execute_result"
    }
   ],
   "source": [
    "# 划分训练集与测试集\n",
    "train_size = int(len(ts) * 0.7)          # 训练集的样本数量\n",
    "test_size  = len(ts) - train_size        # 测试集的样本数量\n",
    "ts = ts[torch.randperm(ts.size(0)),:]    # 打乱样本的顺序\n",
    "train_Data = ts[:train_size,:]           # 训练集样本\n",
    "test_Data  = ts[train_size:,:]           # 测试集样本\n",
    "train_Data.shape, test_Data.shape"
   ]
  },
  {
   "cell_type": "code",
   "execution_count": 5,
   "id": "0906973c",
   "metadata": {
    "ExecuteTime": {
     "end_time": "2024-01-16T12:53:09.520840600Z",
     "start_time": "2024-01-16T12:53:09.440842600Z"
    }
   },
   "outputs": [],
   "source": [
    "class DNN(nn.Module):\n",
    "    \n",
    "    def __init__(self):\n",
    "        ''' 搭建神经网络各层 '''\n",
    "        super(DNN, self).__init__()\n",
    "        self.net = nn.Sequential(              # 按顺序搭建各层\n",
    "            nn.Linear(8, 32), nn.Sigmoid(),    # 第1层：全连接层\n",
    "            nn.Linear(32, 8), nn.Sigmoid(),    # 第2层：全连接层\n",
    "            nn.Linear(8, 4), nn.Sigmoid(),     # 第3层：全连接层\n",
    "            nn.Linear(4, 1), nn.Sigmoid()      # 第4层：全连接层\n",
    "        )\n",
    "\n",
    "    def forward(self, x):\n",
    "        ''' 前向传播 '''\n",
    "        y = self.net(x)    # x即输入数据\n",
    "        return y           # y即输出数据"
   ]
  },
  {
   "cell_type": "code",
   "execution_count": 6,
   "id": "ecfb238f",
   "metadata": {
    "ExecuteTime": {
     "end_time": "2024-01-16T12:53:09.607843300Z",
     "start_time": "2024-01-16T12:53:09.449841900Z"
    }
   },
   "outputs": [
    {
     "data": {
      "text/plain": "DNN(\n  (net): Sequential(\n    (0): Linear(in_features=8, out_features=32, bias=True)\n    (1): Sigmoid()\n    (2): Linear(in_features=32, out_features=8, bias=True)\n    (3): Sigmoid()\n    (4): Linear(in_features=8, out_features=4, bias=True)\n    (5): Sigmoid()\n    (6): Linear(in_features=4, out_features=1, bias=True)\n    (7): Sigmoid()\n  )\n)"
     },
     "execution_count": 6,
     "metadata": {},
     "output_type": "execute_result"
    }
   ],
   "source": [
    "model = DNN().to('cuda')    # 创建子类的实例，并搬到GPU上\n",
    "model                       # 查看该实例的各层"
   ]
  },
  {
   "cell_type": "code",
   "execution_count": 7,
   "id": "81c5743a",
   "metadata": {
    "ExecuteTime": {
     "end_time": "2024-01-16T12:53:09.644841700Z",
     "start_time": "2024-01-16T12:53:09.497841700Z"
    }
   },
   "outputs": [],
   "source": [
    "# 损失函数的选择\n",
    "loss_fn = nn.BCELoss(reduction='mean')"
   ]
  },
  {
   "cell_type": "code",
   "execution_count": 8,
   "id": "b0ef722d",
   "metadata": {
    "ExecuteTime": {
     "end_time": "2024-01-16T12:53:10.049351300Z",
     "start_time": "2024-01-16T12:53:09.514842Z"
    }
   },
   "outputs": [],
   "source": [
    "# 优化算法的选择\n",
    "learning_rate = 0.005    # 设置学习率\n",
    "optimizer = torch.optim.Adam(model.parameters(), lr=learning_rate)"
   ]
  },
  {
   "cell_type": "code",
   "execution_count": null,
   "id": "e8788068",
   "metadata": {
    "is_executing": true,
    "ExecuteTime": {
     "start_time": "2024-01-16T12:53:10.070353200Z"
    }
   },
   "outputs": [],
   "source": [
    "# 训练网络\n",
    "epochs = 5000\n",
    "losses = []       # 记录损失函数变化的列表\n",
    "\n",
    "# 给训练集划分输入与输出\n",
    "X = train_Data[:, :-1]                   # 前8列为输入特征\n",
    "Y = train_Data[:, -1].reshape((-1,1))    # 后1列为输出特征，.reshape((-1,1))将一阶张量升级为二阶\n",
    "\n",
    "for epoch in range(epochs):\n",
    "    Pred = model(X)               # 一次前向传播（批量）\n",
    "    loss = loss_fn(Pred, Y)       # 计算损失函数\n",
    "    losses.append(loss.item())    # 记录损失函数的变化\n",
    "    optimizer.zero_grad()         # 清空梯度\n",
    "    loss.backward()               # 一次反向传播\n",
    "    optimizer.step()              # 优化内部参数\n",
    "\n",
    "Fig = plt.figure()\n",
    "plt.plot(range(epochs), losses)\n",
    "plt.ylabel('loss')\n",
    "plt.xlabel('epoch')\n",
    "plt.show()"
   ]
  },
  {
   "cell_type": "code",
   "execution_count": null,
   "id": "b346f855",
   "metadata": {
    "is_executing": true
   },
   "outputs": [],
   "source": [
    "# 测试网络\n",
    "\n",
    "# 给测试集划分输入与输出\n",
    "X = test_Data[ : , : -1 ]                  # 前8列为输入特征\n",
    "Y = test_Data[ : , -1 ].reshape((-1,1))    # 后1列为输出特征\n",
    "\n",
    "with torch.no_grad():    # 该局部关闭梯度计算功能\n",
    "    Pred = model(X)      # 一次前向传播（批量）\n",
    "    Pred[Pred>=0.5] = 1\n",
    "    Pred[Pred<0.5] = 0\n",
    "    correct = torch.sum( (Pred == Y).all(1) )    # 预测正确的样本\n",
    "    total = Y.size(0)                            # 全部的样本数量\n",
    "    print(f'测试集精准度: {100*correct/total} %')"
   ]
  },
  {
   "cell_type": "code",
   "execution_count": null,
   "id": "e0f5fd7a",
   "metadata": {
    "ExecuteTime": {
     "end_time": "2024-01-16T13:23:56.323672200Z",
     "start_time": "2024-01-16T13:23:56.309676400Z"
    }
   },
   "outputs": [],
   "source": []
  },
  {
   "cell_type": "code",
   "outputs": [],
   "source": [],
   "metadata": {
    "collapsed": false
   },
   "id": "ed5c7207d5a9a58"
  }
 ],
 "metadata": {
  "kernelspec": {
   "display_name": "base",
   "language": "python",
   "name": "python3"
  },
  "language_info": {
   "codemirror_mode": {
    "name": "ipython",
    "version": 3
   },
   "file_extension": ".py",
   "mimetype": "text/x-python",
   "name": "python",
   "nbconvert_exporter": "python",
   "pygments_lexer": "ipython3",
   "version": "3.9.13"
  }
 },
 "nbformat": 4,
 "nbformat_minor": 5
}
